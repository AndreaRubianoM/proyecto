{
  "nbformat": 4,
  "nbformat_minor": 0,
  "metadata": {
    "colab": {
      "provenance": []
    },
    "kernelspec": {
      "name": "python3",
      "display_name": "Python 3"
    },
    "language_info": {
      "name": "python"
    }
  },
  "cells": [
    {
      "cell_type": "markdown",
      "metadata": {
        "id": "IgMCzZlxh_Hg"
      },
      "source": [
        "***Descargando las librerías***\n",
        "\n",
        "\n"
      ]
    },
    {
      "cell_type": "code",
      "metadata": {
        "colab": {
          "base_uri": "https://localhost:8080/",
          "height": 1000
        },
        "id": "dODfJyDkmANp",
        "outputId": "66ec62f2-9ce3-41fc-d3a0-382f1bb66bef"
      },
      "source": [
        "!pip install dvc dvc-gdrive"
      ],
      "execution_count": 1,
      "outputs": [
        {
          "output_type": "stream",
          "name": "stdout",
          "text": [
            "Collecting dvc\n",
            "  Downloading dvc-3.4.0-py3-none-any.whl (426 kB)\n",
            "\u001b[?25l     \u001b[90m━━━━━━━━━━━━━━━━━━━━━━━━━━━━━━━━━━━━━━━━\u001b[0m \u001b[32m0.0/426.4 kB\u001b[0m \u001b[31m?\u001b[0m eta \u001b[36m-:--:--\u001b[0m\r\u001b[2K     \u001b[90m━━━━━━━━━━━━━━━━━━━━━━━━━━━━━━━━━━━━━━\u001b[0m \u001b[32m426.4/426.4 kB\u001b[0m \u001b[31m30.0 MB/s\u001b[0m eta \u001b[36m0:00:00\u001b[0m\n",
            "\u001b[?25hCollecting dvc-gdrive\n",
            "  Downloading dvc_gdrive-2.20.0-py3-none-any.whl (11 kB)\n",
            "Collecting colorama>=0.3.9 (from dvc)\n",
            "  Downloading colorama-0.4.6-py2.py3-none-any.whl (25 kB)\n",
            "Collecting configobj>=5.0.6 (from dvc)\n",
            "  Downloading configobj-5.0.8-py2.py3-none-any.whl (36 kB)\n",
            "Collecting distro>=1.3 (from dvc)\n",
            "  Downloading distro-1.8.0-py3-none-any.whl (20 kB)\n",
            "Collecting dpath<3,>=2.1.0 (from dvc)\n",
            "  Downloading dpath-2.1.6-py3-none-any.whl (17 kB)\n",
            "Collecting dvc-data<2.4.0,>=2.3.2 (from dvc)\n",
            "  Downloading dvc_data-2.3.3-py3-none-any.whl (64 kB)\n",
            "\u001b[2K     \u001b[90m━━━━━━━━━━━━━━━━━━━━━━━━━━━━━━━━━━━━━━━━\u001b[0m \u001b[32m64.8/64.8 kB\u001b[0m \u001b[31m8.5 MB/s\u001b[0m eta \u001b[36m0:00:00\u001b[0m\n",
            "\u001b[?25hCollecting dvc-http>=2.29.0 (from dvc)\n",
            "  Downloading dvc_http-2.30.2-py3-none-any.whl (12 kB)\n",
            "Collecting dvc-render<1,>=0.3.1 (from dvc)\n",
            "  Downloading dvc_render-0.5.3-py3-none-any.whl (19 kB)\n",
            "Collecting dvc-studio-client<1,>=0.9.2 (from dvc)\n",
            "  Downloading dvc_studio_client-0.11.0-py3-none-any.whl (10 kB)\n",
            "Collecting dvc-task<1,>=0.3.0 (from dvc)\n",
            "  Downloading dvc_task-0.3.0-py3-none-any.whl (21 kB)\n",
            "Collecting flatten-dict<1,>=0.4.1 (from dvc)\n",
            "  Downloading flatten_dict-0.4.2-py2.py3-none-any.whl (9.7 kB)\n",
            "Collecting flufl.lock<8,>=5 (from dvc)\n",
            "  Downloading flufl.lock-7.1.1-py3-none-any.whl (11 kB)\n",
            "Collecting funcy>=1.14 (from dvc)\n",
            "  Downloading funcy-2.0-py2.py3-none-any.whl (30 kB)\n",
            "Collecting grandalf<1,>=0.7 (from dvc)\n",
            "  Downloading grandalf-0.8-py3-none-any.whl (41 kB)\n",
            "\u001b[2K     \u001b[90m━━━━━━━━━━━━━━━━━━━━━━━━━━━━━━━━━━━━━━━━\u001b[0m \u001b[32m41.8/41.8 kB\u001b[0m \u001b[31m5.5 MB/s\u001b[0m eta \u001b[36m0:00:00\u001b[0m\n",
            "\u001b[?25hCollecting hydra-core>=1.1 (from dvc)\n",
            "  Downloading hydra_core-1.3.2-py3-none-any.whl (154 kB)\n",
            "\u001b[2K     \u001b[90m━━━━━━━━━━━━━━━━━━━━━━━━━━━━━━━━━━━━━━\u001b[0m \u001b[32m154.5/154.5 kB\u001b[0m \u001b[31m22.3 MB/s\u001b[0m eta \u001b[36m0:00:00\u001b[0m\n",
            "\u001b[?25hCollecting iterative-telemetry>=0.0.7 (from dvc)\n",
            "  Downloading iterative_telemetry-0.0.8-py3-none-any.whl (10 kB)\n",
            "Requirement already satisfied: networkx>=2.5 in /usr/local/lib/python3.10/dist-packages (from dvc) (3.1)\n",
            "Requirement already satisfied: packaging>=19 in /usr/local/lib/python3.10/dist-packages (from dvc) (23.1)\n",
            "Collecting pathspec>=0.10.3 (from dvc)\n",
            "  Downloading pathspec-0.11.1-py3-none-any.whl (29 kB)\n",
            "Requirement already satisfied: platformdirs<4,>=3.1.1 in /usr/local/lib/python3.10/dist-packages (from dvc) (3.7.0)\n",
            "Requirement already satisfied: psutil>=5.8 in /usr/local/lib/python3.10/dist-packages (from dvc) (5.9.5)\n",
            "Requirement already satisfied: pydot>=1.2.4 in /usr/local/lib/python3.10/dist-packages (from dvc) (1.4.2)\n",
            "Collecting pygtrie>=2.3.2 (from dvc)\n",
            "  Downloading pygtrie-2.5.0-py3-none-any.whl (25 kB)\n",
            "Requirement already satisfied: pyparsing>=2.4.7 in /usr/local/lib/python3.10/dist-packages (from dvc) (3.1.0)\n",
            "Requirement already satisfied: requests>=2.22 in /usr/local/lib/python3.10/dist-packages (from dvc) (2.27.1)\n",
            "Requirement already satisfied: rich>=12 in /usr/local/lib/python3.10/dist-packages (from dvc) (13.4.2)\n",
            "Collecting ruamel.yaml>=0.17.11 (from dvc)\n",
            "  Downloading ruamel.yaml-0.17.32-py3-none-any.whl (112 kB)\n",
            "\u001b[2K     \u001b[90m━━━━━━━━━━━━━━━━━━━━━━━━━━━━━━━━━━━━━━\u001b[0m \u001b[32m112.2/112.2 kB\u001b[0m \u001b[31m12.8 MB/s\u001b[0m eta \u001b[36m0:00:00\u001b[0m\n",
            "\u001b[?25hCollecting scmrepo<2,>=1.0.4 (from dvc)\n",
            "  Downloading scmrepo-1.0.4-py3-none-any.whl (54 kB)\n",
            "\u001b[2K     \u001b[90m━━━━━━━━━━━━━━━━━━━━━━━━━━━━━━━━━━━━━━━━\u001b[0m \u001b[32m54.7/54.7 kB\u001b[0m \u001b[31m6.3 MB/s\u001b[0m eta \u001b[36m0:00:00\u001b[0m\n",
            "\u001b[?25hCollecting shortuuid>=0.5 (from dvc)\n",
            "  Downloading shortuuid-1.0.11-py3-none-any.whl (10 kB)\n",
            "Collecting shtab<2,>=1.3.4 (from dvc)\n",
            "  Downloading shtab-1.6.2-py3-none-any.whl (13 kB)\n",
            "Requirement already satisfied: tabulate>=0.8.7 in /usr/local/lib/python3.10/dist-packages (from dvc) (0.8.10)\n",
            "Collecting tomlkit>=0.11.1 (from dvc)\n",
            "  Downloading tomlkit-0.11.8-py3-none-any.whl (35 kB)\n",
            "Requirement already satisfied: tqdm<5,>=4.63.1 in /usr/local/lib/python3.10/dist-packages (from dvc) (4.65.0)\n",
            "Collecting voluptuous>=0.11.7 (from dvc)\n",
            "  Downloading voluptuous-0.13.1-py3-none-any.whl (29 kB)\n",
            "Collecting zc.lockfile>=1.2.1 (from dvc)\n",
            "  Downloading zc.lockfile-3.0.post1-py3-none-any.whl (9.8 kB)\n",
            "Collecting pydrive2[fsspec]>=1.16 (from dvc-gdrive)\n",
            "  Downloading PyDrive2-1.16.0-py3-none-any.whl (45 kB)\n",
            "\u001b[2K     \u001b[90m━━━━━━━━━━━━━━━━━━━━━━━━━━━━━━━━━━━━━━━━\u001b[0m \u001b[32m45.1/45.1 kB\u001b[0m \u001b[31m5.0 MB/s\u001b[0m eta \u001b[36m0:00:00\u001b[0m\n",
            "\u001b[?25hRequirement already satisfied: six in /usr/local/lib/python3.10/dist-packages (from configobj>=5.0.6->dvc) (1.16.0)\n",
            "Collecting dictdiffer>=0.8.1 (from dvc-data<2.4.0,>=2.3.2->dvc)\n",
            "  Downloading dictdiffer-0.9.0-py2.py3-none-any.whl (16 kB)\n",
            "Collecting dvc-objects<1,>=0.23.0 (from dvc-data<2.4.0,>=2.3.2->dvc)\n",
            "  Downloading dvc_objects-0.23.0-py3-none-any.whl (37 kB)\n",
            "Collecting diskcache>=5.2.1 (from dvc-data<2.4.0,>=2.3.2->dvc)\n",
            "  Downloading diskcache-5.6.1-py3-none-any.whl (45 kB)\n",
            "\u001b[2K     \u001b[90m━━━━━━━━━━━━━━━━━━━━━━━━━━━━━━━━━━━━━━━━\u001b[0m \u001b[32m45.6/45.6 kB\u001b[0m \u001b[31m5.0 MB/s\u001b[0m eta \u001b[36m0:00:00\u001b[0m\n",
            "\u001b[?25hCollecting nanotime>=0.5.2 (from dvc-data<2.4.0,>=2.3.2->dvc)\n",
            "  Downloading nanotime-0.5.2.tar.gz (3.2 kB)\n",
            "  Preparing metadata (setup.py) ... \u001b[?25l\u001b[?25hdone\n",
            "Requirement already satisfied: attrs>=21.3.0 in /usr/local/lib/python3.10/dist-packages (from dvc-data<2.4.0,>=2.3.2->dvc) (23.1.0)\n",
            "Collecting sqltrie<1,>=0.6.0 (from dvc-data<2.4.0,>=2.3.2->dvc)\n",
            "  Downloading sqltrie-0.7.0-py3-none-any.whl (17 kB)\n",
            "Requirement already satisfied: fsspec[http] in /usr/local/lib/python3.10/dist-packages (from dvc-http>=2.29.0->dvc) (2023.6.0)\n",
            "Collecting aiohttp-retry>=2.5.0 (from dvc-http>=2.29.0->dvc)\n",
            "  Downloading aiohttp_retry-2.8.3-py3-none-any.whl (9.8 kB)\n",
            "Collecting dulwich (from dvc-studio-client<1,>=0.9.2->dvc)\n",
            "  Downloading dulwich-0.21.5-cp310-cp310-manylinux_2_17_x86_64.manylinux2014_x86_64.whl (510 kB)\n",
            "\u001b[2K     \u001b[90m━━━━━━━━━━━━━━━━━━━━━━━━━━━━━━━━━━━━━━\u001b[0m \u001b[32m510.1/510.1 kB\u001b[0m \u001b[31m17.2 MB/s\u001b[0m eta \u001b[36m0:00:00\u001b[0m\n",
            "\u001b[?25hCollecting celery<6,>=5.3.0 (from dvc-task<1,>=0.3.0->dvc)\n",
            "  Downloading celery-5.3.1-py3-none-any.whl (420 kB)\n",
            "\u001b[2K     \u001b[90m━━━━━━━━━━━━━━━━━━━━━━━━━━━━━━━━━━━━━━\u001b[0m \u001b[32m420.4/420.4 kB\u001b[0m \u001b[31m33.6 MB/s\u001b[0m eta \u001b[36m0:00:00\u001b[0m\n",
            "\u001b[?25hCollecting kombu<6,>=5.3.0 (from dvc-task<1,>=0.3.0->dvc)\n",
            "  Downloading kombu-5.3.1-py3-none-any.whl (198 kB)\n",
            "\u001b[2K     \u001b[90m━━━━━━━━━━━━━━━━━━━━━━━━━━━━━━━━━━━━━━\u001b[0m \u001b[32m198.5/198.5 kB\u001b[0m \u001b[31m19.6 MB/s\u001b[0m eta \u001b[36m0:00:00\u001b[0m\n",
            "\u001b[?25hCollecting atpublic>=2.3 (from flufl.lock<8,>=5->dvc)\n",
            "  Downloading atpublic-4.0-py3-none-any.whl (4.9 kB)\n",
            "Collecting omegaconf<2.4,>=2.2 (from hydra-core>=1.1->dvc)\n",
            "  Downloading omegaconf-2.3.0-py3-none-any.whl (79 kB)\n",
            "\u001b[2K     \u001b[90m━━━━━━━━━━━━━━━━━━━━━━━━━━━━━━━━━━━━━━━━\u001b[0m \u001b[32m79.5/79.5 kB\u001b[0m \u001b[31m9.5 MB/s\u001b[0m eta \u001b[36m0:00:00\u001b[0m\n",
            "\u001b[?25hCollecting antlr4-python3-runtime==4.9.* (from hydra-core>=1.1->dvc)\n",
            "  Downloading antlr4-python3-runtime-4.9.3.tar.gz (117 kB)\n",
            "\u001b[2K     \u001b[90m━━━━━━━━━━━━━━━━━━━━━━━━━━━━━━━━━━━━━━\u001b[0m \u001b[32m117.0/117.0 kB\u001b[0m \u001b[31m11.1 MB/s\u001b[0m eta \u001b[36m0:00:00\u001b[0m\n",
            "\u001b[?25h  Preparing metadata (setup.py) ... \u001b[?25l\u001b[?25hdone\n",
            "Requirement already satisfied: appdirs in /usr/local/lib/python3.10/dist-packages (from iterative-telemetry>=0.0.7->dvc) (1.4.4)\n",
            "Requirement already satisfied: filelock in /usr/local/lib/python3.10/dist-packages (from iterative-telemetry>=0.0.7->dvc) (3.12.2)\n",
            "Requirement already satisfied: google-api-python-client>=1.12.5 in /usr/local/lib/python3.10/dist-packages (from pydrive2[fsspec]>=1.16->dvc-gdrive) (2.84.0)\n",
            "Requirement already satisfied: oauth2client>=4.0.0 in /usr/local/lib/python3.10/dist-packages (from pydrive2[fsspec]>=1.16->dvc-gdrive) (4.1.3)\n",
            "Requirement already satisfied: PyYAML>=3.0 in /usr/local/lib/python3.10/dist-packages (from pydrive2[fsspec]>=1.16->dvc-gdrive) (6.0)\n",
            "Collecting pyOpenSSL>=19.1.0 (from pydrive2[fsspec]>=1.16->dvc-gdrive)\n",
            "  Downloading pyOpenSSL-23.2.0-py3-none-any.whl (59 kB)\n",
            "\u001b[2K     \u001b[90m━━━━━━━━━━━━━━━━━━━━━━━━━━━━━━━━━━━━━━━━\u001b[0m \u001b[32m59.0/59.0 kB\u001b[0m \u001b[31m4.9 MB/s\u001b[0m eta \u001b[36m0:00:00\u001b[0m\n",
            "\u001b[?25hRequirement already satisfied: urllib3<1.27,>=1.21.1 in /usr/local/lib/python3.10/dist-packages (from requests>=2.22->dvc) (1.26.16)\n",
            "Requirement already satisfied: certifi>=2017.4.17 in /usr/local/lib/python3.10/dist-packages (from requests>=2.22->dvc) (2023.5.7)\n",
            "Requirement already satisfied: charset-normalizer~=2.0.0 in /usr/local/lib/python3.10/dist-packages (from requests>=2.22->dvc) (2.0.12)\n",
            "Requirement already satisfied: idna<4,>=2.5 in /usr/local/lib/python3.10/dist-packages (from requests>=2.22->dvc) (3.4)\n",
            "Requirement already satisfied: markdown-it-py>=2.2.0 in /usr/local/lib/python3.10/dist-packages (from rich>=12->dvc) (3.0.0)\n",
            "Requirement already satisfied: pygments<3.0.0,>=2.13.0 in /usr/local/lib/python3.10/dist-packages (from rich>=12->dvc) (2.14.0)\n",
            "Collecting ruamel.yaml.clib>=0.2.7 (from ruamel.yaml>=0.17.11->dvc)\n",
            "  Downloading ruamel.yaml.clib-0.2.7-cp310-cp310-manylinux_2_17_x86_64.manylinux2014_x86_64.manylinux_2_24_x86_64.whl (485 kB)\n",
            "\u001b[2K     \u001b[90m━━━━━━━━━━━━━━━━━━━━━━━━━━━━━━━━━━━━━━\u001b[0m \u001b[32m485.6/485.6 kB\u001b[0m \u001b[31m38.6 MB/s\u001b[0m eta \u001b[36m0:00:00\u001b[0m\n",
            "\u001b[?25hCollecting gitpython>3 (from scmrepo<2,>=1.0.4->dvc)\n",
            "  Downloading GitPython-3.1.31-py3-none-any.whl (184 kB)\n",
            "\u001b[2K     \u001b[90m━━━━━━━━━━━━━━━━━━━━━━━━━━━━━━━━━━━━━━\u001b[0m \u001b[32m184.3/184.3 kB\u001b[0m \u001b[31m19.8 MB/s\u001b[0m eta \u001b[36m0:00:00\u001b[0m\n",
            "\u001b[?25hCollecting pygit2>=1.10.0 (from scmrepo<2,>=1.0.4->dvc)\n",
            "  Downloading pygit2-1.12.2-cp310-cp310-manylinux_2_17_x86_64.manylinux2014_x86_64.whl (4.9 MB)\n",
            "\u001b[2K     \u001b[90m━━━━━━━━━━━━━━━━━━━━━━━━━━━━━━━━━━━━━━━━\u001b[0m \u001b[32m4.9/4.9 MB\u001b[0m \u001b[31m65.8 MB/s\u001b[0m eta \u001b[36m0:00:00\u001b[0m\n",
            "\u001b[?25hCollecting asyncssh<3,>=2.13.1 (from scmrepo<2,>=1.0.4->dvc)\n",
            "  Downloading asyncssh-2.13.2-py3-none-any.whl (349 kB)\n",
            "\u001b[2K     \u001b[90m━━━━━━━━━━━━━━━━━━━━━━━━━━━━━━━━━━━━━━\u001b[0m \u001b[32m349.3/349.3 kB\u001b[0m \u001b[31m29.8 MB/s\u001b[0m eta \u001b[36m0:00:00\u001b[0m\n",
            "\u001b[?25hRequirement already satisfied: setuptools in /usr/local/lib/python3.10/dist-packages (from zc.lockfile>=1.2.1->dvc) (67.7.2)\n",
            "Requirement already satisfied: aiohttp in /usr/local/lib/python3.10/dist-packages (from aiohttp-retry>=2.5.0->dvc-http>=2.29.0->dvc) (3.8.4)\n",
            "Collecting cryptography>=3.1 (from asyncssh<3,>=2.13.1->scmrepo<2,>=1.0.4->dvc)\n",
            "  Downloading cryptography-41.0.1-cp37-abi3-manylinux_2_28_x86_64.whl (4.3 MB)\n",
            "\u001b[2K     \u001b[90m━━━━━━━━━━━━━━━━━━━━━━━━━━━━━━━━━━━━━━━━\u001b[0m \u001b[32m4.3/4.3 MB\u001b[0m \u001b[31m67.1 MB/s\u001b[0m eta \u001b[36m0:00:00\u001b[0m\n",
            "\u001b[?25hRequirement already satisfied: typing-extensions>=3.6 in /usr/local/lib/python3.10/dist-packages (from asyncssh<3,>=2.13.1->scmrepo<2,>=1.0.4->dvc) (4.6.3)\n",
            "Collecting billiard<5.0,>=4.1.0 (from celery<6,>=5.3.0->dvc-task<1,>=0.3.0->dvc)\n",
            "  Downloading billiard-4.1.0-py3-none-any.whl (86 kB)\n",
            "\u001b[2K     \u001b[90m━━━━━━━━━━━━━━━━━━━━━━━━━━━━━━━━━━━━━━━━\u001b[0m \u001b[32m86.7/86.7 kB\u001b[0m \u001b[31m10.9 MB/s\u001b[0m eta \u001b[36m0:00:00\u001b[0m\n",
            "\u001b[?25hCollecting click-didyoumean>=0.3.0 (from celery<6,>=5.3.0->dvc-task<1,>=0.3.0->dvc)\n",
            "  Downloading click_didyoumean-0.3.0-py3-none-any.whl (2.7 kB)\n",
            "Requirement already satisfied: click-plugins>=1.1.1 in /usr/local/lib/python3.10/dist-packages (from celery<6,>=5.3.0->dvc-task<1,>=0.3.0->dvc) (1.1.1)\n",
            "Collecting click-repl>=0.2.0 (from celery<6,>=5.3.0->dvc-task<1,>=0.3.0->dvc)\n",
            "  Downloading click_repl-0.3.0-py3-none-any.whl (10 kB)\n",
            "Requirement already satisfied: click<9.0,>=8.1.2 in /usr/local/lib/python3.10/dist-packages (from celery<6,>=5.3.0->dvc-task<1,>=0.3.0->dvc) (8.1.3)\n",
            "Requirement already satisfied: python-dateutil>=2.8.2 in /usr/local/lib/python3.10/dist-packages (from celery<6,>=5.3.0->dvc-task<1,>=0.3.0->dvc) (2.8.2)\n",
            "Collecting tzdata>=2022.7 (from celery<6,>=5.3.0->dvc-task<1,>=0.3.0->dvc)\n",
            "  Downloading tzdata-2023.3-py2.py3-none-any.whl (341 kB)\n",
            "\u001b[2K     \u001b[90m━━━━━━━━━━━━━━━━━━━━━━━━━━━━━━━━━━━━━━\u001b[0m \u001b[32m341.8/341.8 kB\u001b[0m \u001b[31m20.2 MB/s\u001b[0m eta \u001b[36m0:00:00\u001b[0m\n",
            "\u001b[?25hCollecting vine<6.0,>=5.0.0 (from celery<6,>=5.3.0->dvc-task<1,>=0.3.0->dvc)\n",
            "  Downloading vine-5.0.0-py2.py3-none-any.whl (9.4 kB)\n",
            "Collecting gitdb<5,>=4.0.1 (from gitpython>3->scmrepo<2,>=1.0.4->dvc)\n",
            "  Downloading gitdb-4.0.10-py3-none-any.whl (62 kB)\n",
            "\u001b[2K     \u001b[90m━━━━━━━━━━━━━━━━━━━━━━━━━━━━━━━━━━━━━━━━\u001b[0m \u001b[32m62.7/62.7 kB\u001b[0m \u001b[31m7.2 MB/s\u001b[0m eta \u001b[36m0:00:00\u001b[0m\n",
            "\u001b[?25hRequirement already satisfied: httplib2<1dev,>=0.15.0 in /usr/local/lib/python3.10/dist-packages (from google-api-python-client>=1.12.5->pydrive2[fsspec]>=1.16->dvc-gdrive) (0.21.0)\n",
            "Requirement already satisfied: google-auth<3.0.0dev,>=1.19.0 in /usr/local/lib/python3.10/dist-packages (from google-api-python-client>=1.12.5->pydrive2[fsspec]>=1.16->dvc-gdrive) (2.17.3)\n",
            "Requirement already satisfied: google-auth-httplib2>=0.1.0 in /usr/local/lib/python3.10/dist-packages (from google-api-python-client>=1.12.5->pydrive2[fsspec]>=1.16->dvc-gdrive) (0.1.0)\n",
            "Requirement already satisfied: google-api-core!=2.0.*,!=2.1.*,!=2.2.*,!=2.3.0,<3.0.0dev,>=1.31.5 in /usr/local/lib/python3.10/dist-packages (from google-api-python-client>=1.12.5->pydrive2[fsspec]>=1.16->dvc-gdrive) (2.11.1)\n",
            "Requirement already satisfied: uritemplate<5,>=3.0.1 in /usr/local/lib/python3.10/dist-packages (from google-api-python-client>=1.12.5->pydrive2[fsspec]>=1.16->dvc-gdrive) (4.1.1)\n",
            "Collecting amqp<6.0.0,>=5.1.1 (from kombu<6,>=5.3.0->dvc-task<1,>=0.3.0->dvc)\n",
            "  Downloading amqp-5.1.1-py3-none-any.whl (50 kB)\n",
            "\u001b[2K     \u001b[90m━━━━━━━━━━━━━━━━━━━━━━━━━━━━━━━━━━━━━━━━\u001b[0m \u001b[32m50.8/50.8 kB\u001b[0m \u001b[31m6.1 MB/s\u001b[0m eta \u001b[36m0:00:00\u001b[0m\n",
            "\u001b[?25hRequirement already satisfied: mdurl~=0.1 in /usr/local/lib/python3.10/dist-packages (from markdown-it-py>=2.2.0->rich>=12->dvc) (0.1.2)\n",
            "Requirement already satisfied: pyasn1>=0.1.7 in /usr/local/lib/python3.10/dist-packages (from oauth2client>=4.0.0->pydrive2[fsspec]>=1.16->dvc-gdrive) (0.5.0)\n",
            "Requirement already satisfied: pyasn1-modules>=0.0.5 in /usr/local/lib/python3.10/dist-packages (from oauth2client>=4.0.0->pydrive2[fsspec]>=1.16->dvc-gdrive) (0.3.0)\n",
            "Requirement already satisfied: rsa>=3.1.4 in /usr/local/lib/python3.10/dist-packages (from oauth2client>=4.0.0->pydrive2[fsspec]>=1.16->dvc-gdrive) (4.9)\n",
            "Requirement already satisfied: cffi>=1.9.1 in /usr/local/lib/python3.10/dist-packages (from pygit2>=1.10.0->scmrepo<2,>=1.0.4->dvc) (1.15.1)\n",
            "Collecting orjson (from sqltrie<1,>=0.6.0->dvc-data<2.4.0,>=2.3.2->dvc)\n",
            "  Downloading orjson-3.9.1-cp310-cp310-manylinux_2_17_x86_64.manylinux2014_x86_64.whl (136 kB)\n",
            "\u001b[2K     \u001b[90m━━━━━━━━━━━━━━━━━━━━━━━━━━━━━━━━━━━━━━\u001b[0m \u001b[32m137.0/137.0 kB\u001b[0m \u001b[31m10.5 MB/s\u001b[0m eta \u001b[36m0:00:00\u001b[0m\n",
            "\u001b[?25hRequirement already satisfied: multidict<7.0,>=4.5 in /usr/local/lib/python3.10/dist-packages (from aiohttp->aiohttp-retry>=2.5.0->dvc-http>=2.29.0->dvc) (6.0.4)\n",
            "Requirement already satisfied: async-timeout<5.0,>=4.0.0a3 in /usr/local/lib/python3.10/dist-packages (from aiohttp->aiohttp-retry>=2.5.0->dvc-http>=2.29.0->dvc) (4.0.2)\n",
            "Requirement already satisfied: yarl<2.0,>=1.0 in /usr/local/lib/python3.10/dist-packages (from aiohttp->aiohttp-retry>=2.5.0->dvc-http>=2.29.0->dvc) (1.9.2)\n",
            "Requirement already satisfied: frozenlist>=1.1.1 in /usr/local/lib/python3.10/dist-packages (from aiohttp->aiohttp-retry>=2.5.0->dvc-http>=2.29.0->dvc) (1.3.3)\n",
            "Requirement already satisfied: aiosignal>=1.1.2 in /usr/local/lib/python3.10/dist-packages (from aiohttp->aiohttp-retry>=2.5.0->dvc-http>=2.29.0->dvc) (1.3.1)\n",
            "Requirement already satisfied: pycparser in /usr/local/lib/python3.10/dist-packages (from cffi>=1.9.1->pygit2>=1.10.0->scmrepo<2,>=1.0.4->dvc) (2.21)\n",
            "Requirement already satisfied: prompt-toolkit>=3.0.36 in /usr/local/lib/python3.10/dist-packages (from click-repl>=0.2.0->celery<6,>=5.3.0->dvc-task<1,>=0.3.0->dvc) (3.0.38)\n",
            "Collecting smmap<6,>=3.0.1 (from gitdb<5,>=4.0.1->gitpython>3->scmrepo<2,>=1.0.4->dvc)\n",
            "  Downloading smmap-5.0.0-py3-none-any.whl (24 kB)\n",
            "Requirement already satisfied: googleapis-common-protos<2.0.dev0,>=1.56.2 in /usr/local/lib/python3.10/dist-packages (from google-api-core!=2.0.*,!=2.1.*,!=2.2.*,!=2.3.0,<3.0.0dev,>=1.31.5->google-api-python-client>=1.12.5->pydrive2[fsspec]>=1.16->dvc-gdrive) (1.59.1)\n",
            "Requirement already satisfied: protobuf!=3.20.0,!=3.20.1,!=4.21.0,!=4.21.1,!=4.21.2,!=4.21.3,!=4.21.4,!=4.21.5,<5.0.0.dev0,>=3.19.5 in /usr/local/lib/python3.10/dist-packages (from google-api-core!=2.0.*,!=2.1.*,!=2.2.*,!=2.3.0,<3.0.0dev,>=1.31.5->google-api-python-client>=1.12.5->pydrive2[fsspec]>=1.16->dvc-gdrive) (3.20.3)\n",
            "Requirement already satisfied: cachetools<6.0,>=2.0.0 in /usr/local/lib/python3.10/dist-packages (from google-auth<3.0.0dev,>=1.19.0->google-api-python-client>=1.12.5->pydrive2[fsspec]>=1.16->dvc-gdrive) (5.3.1)\n",
            "Requirement already satisfied: wcwidth in /usr/local/lib/python3.10/dist-packages (from prompt-toolkit>=3.0.36->click-repl>=0.2.0->celery<6,>=5.3.0->dvc-task<1,>=0.3.0->dvc) (0.2.6)\n",
            "Building wheels for collected packages: antlr4-python3-runtime, nanotime\n",
            "  Building wheel for antlr4-python3-runtime (setup.py) ... \u001b[?25l\u001b[?25hdone\n",
            "  Created wheel for antlr4-python3-runtime: filename=antlr4_python3_runtime-4.9.3-py3-none-any.whl size=144554 sha256=8ed305924934fdcf47f4f81c839bf7da2271686b8191c96096c095e3485a2ac0\n",
            "  Stored in directory: /root/.cache/pip/wheels/12/93/dd/1f6a127edc45659556564c5730f6d4e300888f4bca2d4c5a88\n",
            "  Building wheel for nanotime (setup.py) ... \u001b[?25l\u001b[?25hdone\n",
            "  Created wheel for nanotime: filename=nanotime-0.5.2-py3-none-any.whl size=2424 sha256=b4a8c7f9780408f271a7c36fed2d31ce153e5883238f0d1eef910d9982c674de\n",
            "  Stored in directory: /root/.cache/pip/wheels/73/bb/71/028f42cbcf24b1b60dda71f31867996546232b28dcc253fe4c\n",
            "Successfully built antlr4-python3-runtime nanotime\n",
            "Installing collected packages: voluptuous, pygtrie, nanotime, funcy, dictdiffer, antlr4-python3-runtime, zc.lockfile, vine, tzdata, tomlkit, smmap, shtab, shortuuid, ruamel.yaml.clib, pathspec, orjson, omegaconf, grandalf, flatten-dict, dvc-render, dulwich, dpath, distro, diskcache, configobj, colorama, click-didyoumean, billiard, atpublic, sqltrie, ruamel.yaml, pygit2, iterative-telemetry, hydra-core, gitdb, flufl.lock, dvc-studio-client, dvc-objects, cryptography, click-repl, amqp, pyOpenSSL, kombu, gitpython, dvc-data, asyncssh, aiohttp-retry, scmrepo, dvc-http, celery, pydrive2, dvc-task, dvc, dvc-gdrive\n",
            "Successfully installed aiohttp-retry-2.8.3 amqp-5.1.1 antlr4-python3-runtime-4.9.3 asyncssh-2.13.2 atpublic-4.0 billiard-4.1.0 celery-5.3.1 click-didyoumean-0.3.0 click-repl-0.3.0 colorama-0.4.6 configobj-5.0.8 cryptography-41.0.1 dictdiffer-0.9.0 diskcache-5.6.1 distro-1.8.0 dpath-2.1.6 dulwich-0.21.5 dvc-3.4.0 dvc-data-2.3.3 dvc-gdrive-2.20.0 dvc-http-2.30.2 dvc-objects-0.23.0 dvc-render-0.5.3 dvc-studio-client-0.11.0 dvc-task-0.3.0 flatten-dict-0.4.2 flufl.lock-7.1.1 funcy-2.0 gitdb-4.0.10 gitpython-3.1.31 grandalf-0.8 hydra-core-1.3.2 iterative-telemetry-0.0.8 kombu-5.3.1 nanotime-0.5.2 omegaconf-2.3.0 orjson-3.9.1 pathspec-0.11.1 pyOpenSSL-23.2.0 pydrive2-1.16.0 pygit2-1.12.2 pygtrie-2.5.0 ruamel.yaml-0.17.32 ruamel.yaml.clib-0.2.7 scmrepo-1.0.4 shortuuid-1.0.11 shtab-1.6.2 smmap-5.0.0 sqltrie-0.7.0 tomlkit-0.11.8 tzdata-2023.3 vine-5.0.0 voluptuous-0.13.1 zc.lockfile-3.0.post1\n"
          ]
        },
        {
          "output_type": "display_data",
          "data": {
            "application/vnd.colab-display-data+json": {
              "pip_warning": {
                "packages": [
                  "pydevd_plugins"
                ]
              }
            }
          },
          "metadata": {}
        }
      ]
    },
    {
      "cell_type": "code",
      "source": [
        "!dvc --version"
      ],
      "metadata": {
        "colab": {
          "base_uri": "https://localhost:8080/"
        },
        "id": "ft10I4dOpSk5",
        "outputId": "0c07566f-163e-4f00-de79-f0c9fac12b3b"
      },
      "execution_count": 2,
      "outputs": [
        {
          "output_type": "stream",
          "name": "stdout",
          "text": [
            "3.4.0\n",
            "\u001b[0m"
          ]
        }
      ]
    },
    {
      "cell_type": "code",
      "source": [
        "# Librerías de utilidad para manipulación y visualización de datos.\n",
        "!pip install -U scikit-learn\n",
        "import os\n",
        "import pandas as pd\n",
        "import subprocess\n",
        "import matplotlib.pyplot as plt\n",
        "from sklearn.linear_model import LinearRegression\n",
        "from IPython import get_ipython\n",
        "from IPython.display import display\n",
        "\n",
        "# Ignorar warnings.\n",
        "import warnings\n",
        "warnings.filterwarnings('ignore')"
      ],
      "metadata": {
        "colab": {
          "base_uri": "https://localhost:8080/"
        },
        "id": "aUlzEJkApTjp",
        "outputId": "5b6535fd-ff07-413d-f62e-a47d109c81dd"
      },
      "execution_count": 4,
      "outputs": [
        {
          "output_type": "stream",
          "name": "stdout",
          "text": [
            "Requirement already satisfied: scikit-learn in /usr/local/lib/python3.10/dist-packages (1.3.0)\n",
            "Requirement already satisfied: numpy>=1.17.3 in /usr/local/lib/python3.10/dist-packages (from scikit-learn) (1.22.4)\n",
            "Requirement already satisfied: scipy>=1.5.0 in /usr/local/lib/python3.10/dist-packages (from scikit-learn) (1.10.1)\n",
            "Requirement already satisfied: joblib>=1.1.1 in /usr/local/lib/python3.10/dist-packages (from scikit-learn) (1.2.0)\n",
            "Requirement already satisfied: threadpoolctl>=2.0.0 in /usr/local/lib/python3.10/dist-packages (from scikit-learn) (3.1.0)\n"
          ]
        }
      ]
    },
    {
      "cell_type": "markdown",
      "source": [
        "***Cargue del dataset***"
      ],
      "metadata": {
        "id": "idveJjBprEi-"
      }
    },
    {
      "cell_type": "markdown",
      "source": [
        "\n",
        "El dataset analizado fue descargado del repositorio de aprendizaje computacional de la Universidad de Califormia Irvine (UCI Machine learning repository). La dirección web es la siguiente:\n",
        "https://archive.ics.uci.edu/ml/datasets/Bank+Marketing."
      ],
      "metadata": {
        "id": "P_TsI6qgqw82"
      }
    },
    {
      "cell_type": "code",
      "metadata": {
        "id": "wG62mqOdUX6T",
        "colab": {
          "base_uri": "https://localhost:8080/",
          "height": 299
        },
        "outputId": "400ab7f0-ab94-42ba-c806-2c78cce2918e"
      },
      "source": [
        "banco = pd.read_csv('/content/bank-additional-full.csv', sep = ';')\n",
        "banco.head()"
      ],
      "execution_count": 5,
      "outputs": [
        {
          "output_type": "execute_result",
          "data": {
            "text/plain": [
              "   age        job  marital    education  default housing loan    contact  \\\n",
              "0   56  housemaid  married     basic.4y       no      no   no  telephone   \n",
              "1   57   services  married  high.school  unknown      no   no  telephone   \n",
              "2   37   services  married  high.school       no     yes   no  telephone   \n",
              "3   40     admin.  married     basic.6y       no      no   no  telephone   \n",
              "4   56   services  married  high.school       no      no  yes  telephone   \n",
              "\n",
              "  month day_of_week  ...  campaign  pdays  previous     poutcome emp.var.rate  \\\n",
              "0   may         mon  ...         1    999         0  nonexistent          1.1   \n",
              "1   may         mon  ...         1    999         0  nonexistent          1.1   \n",
              "2   may         mon  ...         1    999         0  nonexistent          1.1   \n",
              "3   may         mon  ...         1    999         0  nonexistent          1.1   \n",
              "4   may         mon  ...         1    999         0  nonexistent          1.1   \n",
              "\n",
              "   cons.price.idx  cons.conf.idx  euribor3m  nr.employed   y  \n",
              "0          93.994          -36.4      4.857       5191.0  no  \n",
              "1          93.994          -36.4      4.857       5191.0  no  \n",
              "2          93.994          -36.4      4.857       5191.0  no  \n",
              "3          93.994          -36.4      4.857       5191.0  no  \n",
              "4          93.994          -36.4      4.857       5191.0  no  \n",
              "\n",
              "[5 rows x 21 columns]"
            ],
            "text/html": [
              "\n",
              "  <div id=\"df-f7c47640-8284-41d5-b6a3-c6d91cd733a2\">\n",
              "    <div class=\"colab-df-container\">\n",
              "      <div>\n",
              "<style scoped>\n",
              "    .dataframe tbody tr th:only-of-type {\n",
              "        vertical-align: middle;\n",
              "    }\n",
              "\n",
              "    .dataframe tbody tr th {\n",
              "        vertical-align: top;\n",
              "    }\n",
              "\n",
              "    .dataframe thead th {\n",
              "        text-align: right;\n",
              "    }\n",
              "</style>\n",
              "<table border=\"1\" class=\"dataframe\">\n",
              "  <thead>\n",
              "    <tr style=\"text-align: right;\">\n",
              "      <th></th>\n",
              "      <th>age</th>\n",
              "      <th>job</th>\n",
              "      <th>marital</th>\n",
              "      <th>education</th>\n",
              "      <th>default</th>\n",
              "      <th>housing</th>\n",
              "      <th>loan</th>\n",
              "      <th>contact</th>\n",
              "      <th>month</th>\n",
              "      <th>day_of_week</th>\n",
              "      <th>...</th>\n",
              "      <th>campaign</th>\n",
              "      <th>pdays</th>\n",
              "      <th>previous</th>\n",
              "      <th>poutcome</th>\n",
              "      <th>emp.var.rate</th>\n",
              "      <th>cons.price.idx</th>\n",
              "      <th>cons.conf.idx</th>\n",
              "      <th>euribor3m</th>\n",
              "      <th>nr.employed</th>\n",
              "      <th>y</th>\n",
              "    </tr>\n",
              "  </thead>\n",
              "  <tbody>\n",
              "    <tr>\n",
              "      <th>0</th>\n",
              "      <td>56</td>\n",
              "      <td>housemaid</td>\n",
              "      <td>married</td>\n",
              "      <td>basic.4y</td>\n",
              "      <td>no</td>\n",
              "      <td>no</td>\n",
              "      <td>no</td>\n",
              "      <td>telephone</td>\n",
              "      <td>may</td>\n",
              "      <td>mon</td>\n",
              "      <td>...</td>\n",
              "      <td>1</td>\n",
              "      <td>999</td>\n",
              "      <td>0</td>\n",
              "      <td>nonexistent</td>\n",
              "      <td>1.1</td>\n",
              "      <td>93.994</td>\n",
              "      <td>-36.4</td>\n",
              "      <td>4.857</td>\n",
              "      <td>5191.0</td>\n",
              "      <td>no</td>\n",
              "    </tr>\n",
              "    <tr>\n",
              "      <th>1</th>\n",
              "      <td>57</td>\n",
              "      <td>services</td>\n",
              "      <td>married</td>\n",
              "      <td>high.school</td>\n",
              "      <td>unknown</td>\n",
              "      <td>no</td>\n",
              "      <td>no</td>\n",
              "      <td>telephone</td>\n",
              "      <td>may</td>\n",
              "      <td>mon</td>\n",
              "      <td>...</td>\n",
              "      <td>1</td>\n",
              "      <td>999</td>\n",
              "      <td>0</td>\n",
              "      <td>nonexistent</td>\n",
              "      <td>1.1</td>\n",
              "      <td>93.994</td>\n",
              "      <td>-36.4</td>\n",
              "      <td>4.857</td>\n",
              "      <td>5191.0</td>\n",
              "      <td>no</td>\n",
              "    </tr>\n",
              "    <tr>\n",
              "      <th>2</th>\n",
              "      <td>37</td>\n",
              "      <td>services</td>\n",
              "      <td>married</td>\n",
              "      <td>high.school</td>\n",
              "      <td>no</td>\n",
              "      <td>yes</td>\n",
              "      <td>no</td>\n",
              "      <td>telephone</td>\n",
              "      <td>may</td>\n",
              "      <td>mon</td>\n",
              "      <td>...</td>\n",
              "      <td>1</td>\n",
              "      <td>999</td>\n",
              "      <td>0</td>\n",
              "      <td>nonexistent</td>\n",
              "      <td>1.1</td>\n",
              "      <td>93.994</td>\n",
              "      <td>-36.4</td>\n",
              "      <td>4.857</td>\n",
              "      <td>5191.0</td>\n",
              "      <td>no</td>\n",
              "    </tr>\n",
              "    <tr>\n",
              "      <th>3</th>\n",
              "      <td>40</td>\n",
              "      <td>admin.</td>\n",
              "      <td>married</td>\n",
              "      <td>basic.6y</td>\n",
              "      <td>no</td>\n",
              "      <td>no</td>\n",
              "      <td>no</td>\n",
              "      <td>telephone</td>\n",
              "      <td>may</td>\n",
              "      <td>mon</td>\n",
              "      <td>...</td>\n",
              "      <td>1</td>\n",
              "      <td>999</td>\n",
              "      <td>0</td>\n",
              "      <td>nonexistent</td>\n",
              "      <td>1.1</td>\n",
              "      <td>93.994</td>\n",
              "      <td>-36.4</td>\n",
              "      <td>4.857</td>\n",
              "      <td>5191.0</td>\n",
              "      <td>no</td>\n",
              "    </tr>\n",
              "    <tr>\n",
              "      <th>4</th>\n",
              "      <td>56</td>\n",
              "      <td>services</td>\n",
              "      <td>married</td>\n",
              "      <td>high.school</td>\n",
              "      <td>no</td>\n",
              "      <td>no</td>\n",
              "      <td>yes</td>\n",
              "      <td>telephone</td>\n",
              "      <td>may</td>\n",
              "      <td>mon</td>\n",
              "      <td>...</td>\n",
              "      <td>1</td>\n",
              "      <td>999</td>\n",
              "      <td>0</td>\n",
              "      <td>nonexistent</td>\n",
              "      <td>1.1</td>\n",
              "      <td>93.994</td>\n",
              "      <td>-36.4</td>\n",
              "      <td>4.857</td>\n",
              "      <td>5191.0</td>\n",
              "      <td>no</td>\n",
              "    </tr>\n",
              "  </tbody>\n",
              "</table>\n",
              "<p>5 rows × 21 columns</p>\n",
              "</div>\n",
              "      <button class=\"colab-df-convert\" onclick=\"convertToInteractive('df-f7c47640-8284-41d5-b6a3-c6d91cd733a2')\"\n",
              "              title=\"Convert this dataframe to an interactive table.\"\n",
              "              style=\"display:none;\">\n",
              "        \n",
              "  <svg xmlns=\"http://www.w3.org/2000/svg\" height=\"24px\"viewBox=\"0 0 24 24\"\n",
              "       width=\"24px\">\n",
              "    <path d=\"M0 0h24v24H0V0z\" fill=\"none\"/>\n",
              "    <path d=\"M18.56 5.44l.94 2.06.94-2.06 2.06-.94-2.06-.94-.94-2.06-.94 2.06-2.06.94zm-11 1L8.5 8.5l.94-2.06 2.06-.94-2.06-.94L8.5 2.5l-.94 2.06-2.06.94zm10 10l.94 2.06.94-2.06 2.06-.94-2.06-.94-.94-2.06-.94 2.06-2.06.94z\"/><path d=\"M17.41 7.96l-1.37-1.37c-.4-.4-.92-.59-1.43-.59-.52 0-1.04.2-1.43.59L10.3 9.45l-7.72 7.72c-.78.78-.78 2.05 0 2.83L4 21.41c.39.39.9.59 1.41.59.51 0 1.02-.2 1.41-.59l7.78-7.78 2.81-2.81c.8-.78.8-2.07 0-2.86zM5.41 20L4 18.59l7.72-7.72 1.47 1.35L5.41 20z\"/>\n",
              "  </svg>\n",
              "      </button>\n",
              "      \n",
              "  <style>\n",
              "    .colab-df-container {\n",
              "      display:flex;\n",
              "      flex-wrap:wrap;\n",
              "      gap: 12px;\n",
              "    }\n",
              "\n",
              "    .colab-df-convert {\n",
              "      background-color: #E8F0FE;\n",
              "      border: none;\n",
              "      border-radius: 50%;\n",
              "      cursor: pointer;\n",
              "      display: none;\n",
              "      fill: #1967D2;\n",
              "      height: 32px;\n",
              "      padding: 0 0 0 0;\n",
              "      width: 32px;\n",
              "    }\n",
              "\n",
              "    .colab-df-convert:hover {\n",
              "      background-color: #E2EBFA;\n",
              "      box-shadow: 0px 1px 2px rgba(60, 64, 67, 0.3), 0px 1px 3px 1px rgba(60, 64, 67, 0.15);\n",
              "      fill: #174EA6;\n",
              "    }\n",
              "\n",
              "    [theme=dark] .colab-df-convert {\n",
              "      background-color: #3B4455;\n",
              "      fill: #D2E3FC;\n",
              "    }\n",
              "\n",
              "    [theme=dark] .colab-df-convert:hover {\n",
              "      background-color: #434B5C;\n",
              "      box-shadow: 0px 1px 3px 1px rgba(0, 0, 0, 0.15);\n",
              "      filter: drop-shadow(0px 1px 2px rgba(0, 0, 0, 0.3));\n",
              "      fill: #FFFFFF;\n",
              "    }\n",
              "  </style>\n",
              "\n",
              "      <script>\n",
              "        const buttonEl =\n",
              "          document.querySelector('#df-f7c47640-8284-41d5-b6a3-c6d91cd733a2 button.colab-df-convert');\n",
              "        buttonEl.style.display =\n",
              "          google.colab.kernel.accessAllowed ? 'block' : 'none';\n",
              "\n",
              "        async function convertToInteractive(key) {\n",
              "          const element = document.querySelector('#df-f7c47640-8284-41d5-b6a3-c6d91cd733a2');\n",
              "          const dataTable =\n",
              "            await google.colab.kernel.invokeFunction('convertToInteractive',\n",
              "                                                     [key], {});\n",
              "          if (!dataTable) return;\n",
              "\n",
              "          const docLinkHtml = 'Like what you see? Visit the ' +\n",
              "            '<a target=\"_blank\" href=https://colab.research.google.com/notebooks/data_table.ipynb>data table notebook</a>'\n",
              "            + ' to learn more about interactive tables.';\n",
              "          element.innerHTML = '';\n",
              "          dataTable['output_type'] = 'display_data';\n",
              "          await google.colab.output.renderOutput(dataTable, element);\n",
              "          const docLink = document.createElement('div');\n",
              "          docLink.innerHTML = docLinkHtml;\n",
              "          element.appendChild(docLink);\n",
              "        }\n",
              "      </script>\n",
              "    </div>\n",
              "  </div>\n",
              "  "
            ]
          },
          "metadata": {},
          "execution_count": 5
        }
      ]
    },
    {
      "cell_type": "code",
      "source": [
        "!git config --global user.email \"andrearubianom@gmail.com\"\n",
        "!git config --global user.name \"AndreaRubianoM\"\n",
        "!git config --global init.defaultBranch master"
      ],
      "metadata": {
        "id": "XjdZ8-oHrjJe"
      },
      "execution_count": 6,
      "outputs": []
    },
    {
      "cell_type": "code",
      "source": [
        "!git init"
      ],
      "metadata": {
        "colab": {
          "base_uri": "https://localhost:8080/"
        },
        "id": "5miqxivwrrII",
        "outputId": "6c46dea5-7472-42e6-bc90-3ebee150203c"
      },
      "execution_count": 7,
      "outputs": [
        {
          "output_type": "stream",
          "name": "stdout",
          "text": [
            "Initialized empty Git repository in /content/.git/\n"
          ]
        }
      ]
    },
    {
      "cell_type": "code",
      "source": [
        "token = \"\" # Agregue su token dentro de las comillas."
      ],
      "metadata": {
        "id": "9aOhpAerrrgm"
      },
      "execution_count": 9,
      "outputs": []
    },
    {
      "cell_type": "code",
      "source": [
        "repo_url = \"https://github.com/AndreaRubianoM/proyecto.git\" # Agruegue la url de su repositorio dentro de las comillas."
      ],
      "metadata": {
        "id": "BSPPw3SqrsPj"
      },
      "execution_count": 10,
      "outputs": []
    },
    {
      "cell_type": "code",
      "source": [
        "import re\n",
        "pat = re.compile(r\"(https://)(.*)\")"
      ],
      "metadata": {
        "id": "o8mK7GEesDS8"
      },
      "execution_count": 11,
      "outputs": []
    },
    {
      "cell_type": "code",
      "source": [
        "match = re.match(pat, repo_url)\n",
        "url_token = \"\".join([match.group(1), token, \"@\", match.group(2)])\n",
        "os.environ[\"GITHUB\"] = url_token"
      ],
      "metadata": {
        "id": "CnneG-3hsD8Z"
      },
      "execution_count": 12,
      "outputs": []
    },
    {
      "cell_type": "code",
      "source": [
        "!git clone $GITHUB"
      ],
      "metadata": {
        "colab": {
          "base_uri": "https://localhost:8080/"
        },
        "id": "lp68D8qYsLFt",
        "outputId": "4de39bdb-fc21-4734-841e-4c36ac830f0f"
      },
      "execution_count": 13,
      "outputs": [
        {
          "output_type": "stream",
          "name": "stdout",
          "text": [
            "Cloning into 'proyecto'...\n",
            "remote: Enumerating objects: 80, done.\u001b[K\n",
            "remote: Counting objects: 100% (80/80), done.\u001b[K\n",
            "remote: Compressing objects: 100% (60/60), done.\u001b[K\n",
            "remote: Total 80 (delta 12), reused 51 (delta 5), pack-reused 0\u001b[K\n",
            "Unpacking objects: 100% (80/80), 673.09 KiB | 4.61 MiB/s, done.\n"
          ]
        }
      ]
    },
    {
      "cell_type": "code",
      "source": [
        "%cd proyecto/data/"
      ],
      "metadata": {
        "colab": {
          "base_uri": "https://localhost:8080/"
        },
        "id": "c5-hppm8sKz1",
        "outputId": "fb636086-2822-4130-ae6d-36981e807f9d"
      },
      "execution_count": 14,
      "outputs": [
        {
          "output_type": "stream",
          "name": "stdout",
          "text": [
            "/content/proyecto/data\n"
          ]
        }
      ]
    },
    {
      "cell_type": "code",
      "source": [
        "!git status"
      ],
      "metadata": {
        "colab": {
          "base_uri": "https://localhost:8080/"
        },
        "id": "65uVojVws60p",
        "outputId": "6eaa864d-d030-4b67-942f-237bb673dc21"
      },
      "execution_count": 16,
      "outputs": [
        {
          "output_type": "stream",
          "name": "stdout",
          "text": [
            "On branch master\n",
            "Your branch is up to date with 'origin/master'.\n",
            "\n",
            "nothing to commit, working tree clean\n"
          ]
        }
      ]
    },
    {
      "cell_type": "code",
      "source": [
        "!dvc init --subdir"
      ],
      "metadata": {
        "colab": {
          "base_uri": "https://localhost:8080/"
        },
        "id": "u7a0bA0WsVCw",
        "outputId": "8097ad6b-cf5b-42e8-a135-121df944e653"
      },
      "execution_count": 17,
      "outputs": [
        {
          "output_type": "stream",
          "name": "stdout",
          "text": [
            "Initialized DVC repository.\n",
            "\n",
            "You can now commit the changes to git.\n",
            "\n",
            "\u001b[31m+---------------------------------------------------------------------+\n",
            "\u001b[0m\u001b[31m|\u001b[0m                                                                     \u001b[31m|\u001b[0m\n",
            "\u001b[31m|\u001b[0m        DVC has enabled anonymous aggregate usage analytics.         \u001b[31m|\u001b[0m\n",
            "\u001b[31m|\u001b[0m     Read the analytics documentation (and how to opt-out) here:     \u001b[31m|\u001b[0m\n",
            "\u001b[31m|\u001b[0m             <\u001b[36mhttps://dvc.org/doc/user-guide/analytics\u001b[39m>              \u001b[31m|\u001b[0m\n",
            "\u001b[31m|\u001b[0m                                                                     \u001b[31m|\u001b[0m\n",
            "\u001b[31m+---------------------------------------------------------------------+\n",
            "\u001b[0m\n",
            "\u001b[33mWhat's next?\u001b[39m\n",
            "\u001b[33m------------\u001b[39m\n",
            "- Check out the documentation: <\u001b[36mhttps://dvc.org/doc\u001b[39m>\n",
            "- Get help and share ideas: <\u001b[36mhttps://dvc.org/chat\u001b[39m>\n",
            "- Star us on GitHub: <\u001b[36mhttps://github.com/iterative/dvc\u001b[39m>\n",
            "\u001b[0m"
          ]
        }
      ]
    },
    {
      "cell_type": "code",
      "source": [
        "!ls -a"
      ],
      "metadata": {
        "colab": {
          "base_uri": "https://localhost:8080/"
        },
        "id": "m_SVqhu2sUwN",
        "outputId": "99292e0b-3cca-4f52-bedc-f8f29017af64"
      },
      "execution_count": 18,
      "outputs": [
        {
          "output_type": "stream",
          "name": "stdout",
          "text": [
            ".  ..  bank-additional-full.csv  .dvc  .dvcignore\n"
          ]
        }
      ]
    },
    {
      "cell_type": "code",
      "source": [
        "!dvc add bank-additional-full.csv"
      ],
      "metadata": {
        "colab": {
          "base_uri": "https://localhost:8080/"
        },
        "id": "qQ__Nmy4tlk0",
        "outputId": "139c187d-3b61-4388-961a-fd57554f8812"
      },
      "execution_count": 19,
      "outputs": [
        {
          "output_type": "stream",
          "name": "stdout",
          "text": [
            "\r!\rIf DVC froze, see `hardlink_lock` in <\u001b[36mhttps://man.dvc.org/config#core\u001b[39m>\r                                                                      \r\u001b[?25l\u001b[32m⠋\u001b[0m Checking graph\n",
            "\u001b[?25h\r\u001b[1A\u001b[2K\rAdding...:   0% 0/1 [00:00<?, ?file/s]\rAdding...:   0% 0/1 [00:00<?, ?file/s{'info': ''}]\rAdding...:   0% 0/1 [00:00<?, ?file/s{'info': ''}]\rAdding...:   0% 0/1 [00:00<?, ?file/s{'info': ''}]\n",
            "\u001b[31mERROR\u001b[39m:  output 'bank-additional-full.csv' is already tracked by SCM (e.g. Git).\n",
            "    You can remove it from Git, then add to DVC.\n",
            "        To stop tracking from Git:\n",
            "            git rm -r --cached 'bank-additional-full.csv'\n",
            "            git commit -m \"stop tracking bank-additional-full.csv\" \n",
            "\u001b[0m"
          ]
        }
      ]
    },
    {
      "cell_type": "code",
      "source": [
        "!git rm -r --cached 'bank-additional-full.csv'\n",
        "!git commit -m \"Stop tracking bank-additional-full.csv\""
      ],
      "metadata": {
        "colab": {
          "base_uri": "https://localhost:8080/"
        },
        "id": "VnJ-Z6SHtmEd",
        "outputId": "93514954-e4ed-4c5b-fab9-504ba288442e"
      },
      "execution_count": 20,
      "outputs": [
        {
          "output_type": "stream",
          "name": "stdout",
          "text": [
            "rm 'data/bank-additional-full.csv'\n",
            "[master ec7d796] Stop tracking bank-additional-full.csv\n",
            " 4 files changed, 6 insertions(+), 41189 deletions(-)\n",
            " create mode 100644 data/.dvc/.gitignore\n",
            " create mode 100644 data/.dvc/config\n",
            " create mode 100644 data/.dvcignore\n",
            " delete mode 100644 data/bank-additional-full.csv\n"
          ]
        }
      ]
    },
    {
      "cell_type": "code",
      "source": [
        "!dvc add bank-additional-full.csv"
      ],
      "metadata": {
        "colab": {
          "base_uri": "https://localhost:8080/"
        },
        "id": "GAi6GYbNtmcc",
        "outputId": "ac538a20-3a22-4a20-e428-c75f38b95039"
      },
      "execution_count": 21,
      "outputs": [
        {
          "output_type": "stream",
          "name": "stdout",
          "text": [
            "\r!\rIf DVC froze, see `hardlink_lock` in <\u001b[36mhttps://man.dvc.org/config#core\u001b[39m>\r                                                                      \r\u001b[?25l\u001b[32m⠋\u001b[0m Checking graph\n",
            "\u001b[?25h\r\u001b[1A\u001b[2K\rAdding...:   0% 0/1 [00:00<?, ?file/s]\rAdding...:   0% 0/1 [00:00<?, ?file/s{'info': ''}]\rAdding...:   0% 0/1 [00:00<?, ?file/s{'info': ''}]\n",
            "\r!\u001b[A\n",
            "\r  0% |          |0/? [00:00<?,    ?files/s]\u001b[A\n",
            "\r                                           \u001b[A\n",
            "\r!\u001b[A\n",
            "\r  0%|          |Checking out {path}                   0/? [00:00<?,    ?files/s]\u001b[A\n",
            "\rChecking out {path}:   0% 0/1 [00:00<?, ?files/s{'info': ''}]                   \u001b[A\n",
            "\r                                                             \u001b[A\rAdding...: 100% 1/1 [00:00<00:00, 20.14file/s{'info': ''}]\n",
            "\n",
            "To track the changes with git, run:\n",
            "\n",
            "\tgit add .gitignore bank-additional-full.csv.dvc\n",
            "\n",
            "To enable auto staging, run:\n",
            "\n",
            "\tdvc config core.autostage true\n",
            "\u001b[0m"
          ]
        }
      ]
    },
    {
      "cell_type": "code",
      "source": [
        "!ls -a"
      ],
      "metadata": {
        "colab": {
          "base_uri": "https://localhost:8080/"
        },
        "id": "Bcz9n-MSuJzH",
        "outputId": "c6e66230-5d7a-4e4c-a7e6-c9b69d3638b3"
      },
      "execution_count": 23,
      "outputs": [
        {
          "output_type": "stream",
          "name": "stdout",
          "text": [
            ".   bank-additional-full.csv\t  .dvc\t      .gitignore\n",
            "..  bank-additional-full.csv.dvc  .dvcignore\n"
          ]
        }
      ]
    },
    {
      "cell_type": "code",
      "source": [
        "!cat bank-additional-full.csv.dvc"
      ],
      "metadata": {
        "colab": {
          "base_uri": "https://localhost:8080/"
        },
        "id": "Ttle-7hFuJg8",
        "outputId": "0083accc-028d-4a8c-923b-9bc569697387"
      },
      "execution_count": 24,
      "outputs": [
        {
          "output_type": "stream",
          "name": "stdout",
          "text": [
            "outs:\n",
            "- md5: 9a9bb55b5a8d0d45fd6cbe007b5c8782\n",
            "  size: 4928746\n",
            "  hash: md5\n",
            "  path: bank-additional-full.csv\n"
          ]
        }
      ]
    },
    {
      "cell_type": "code",
      "source": [
        "!cat .gitignore"
      ],
      "metadata": {
        "colab": {
          "base_uri": "https://localhost:8080/"
        },
        "id": "uPRHEtyhucCV",
        "outputId": "79a72f1d-b0a0-4819-f6f2-b1892da166df"
      },
      "execution_count": 25,
      "outputs": [
        {
          "output_type": "stream",
          "name": "stdout",
          "text": [
            "/bank-additional-full.csv\n"
          ]
        }
      ]
    },
    {
      "cell_type": "code",
      "source": [
        "!git add .gitignore *.csv.dvc"
      ],
      "metadata": {
        "id": "QrIgAAmdubmm"
      },
      "execution_count": 26,
      "outputs": []
    },
    {
      "cell_type": "code",
      "source": [
        "!git status"
      ],
      "metadata": {
        "colab": {
          "base_uri": "https://localhost:8080/"
        },
        "id": "tG9dZeWJu9BI",
        "outputId": "edc79b40-15cb-4b79-bf4a-a267f499cdc8"
      },
      "execution_count": 27,
      "outputs": [
        {
          "output_type": "stream",
          "name": "stdout",
          "text": [
            "On branch master\n",
            "Your branch is ahead of 'origin/master' by 1 commit.\n",
            "  (use \"git push\" to publish your local commits)\n",
            "\n",
            "Changes to be committed:\n",
            "  (use \"git restore --staged <file>...\" to unstage)\n",
            "\t\u001b[32mnew file:   .gitignore\u001b[m\n",
            "\t\u001b[32mnew file:   bank-additional-full.csv.dvc\u001b[m\n",
            "\n"
          ]
        }
      ]
    },
    {
      "cell_type": "code",
      "source": [
        "!git commit -m \"Inicializamos dvc y agregamos el bank-additional-full.csv\""
      ],
      "metadata": {
        "colab": {
          "base_uri": "https://localhost:8080/"
        },
        "id": "4wxWs9UHu9bx",
        "outputId": "f3dcca86-068f-4f2f-b19d-34f194cd0b4e"
      },
      "execution_count": 28,
      "outputs": [
        {
          "output_type": "stream",
          "name": "stdout",
          "text": [
            "[master 3a83dc6] Inicializamos dvc y agregamos el bank-additional-full.csv\n",
            " 2 files changed, 6 insertions(+)\n",
            " create mode 100644 data/.gitignore\n",
            " create mode 100644 data/bank-additional-full.csv.dvc\n"
          ]
        }
      ]
    },
    {
      "cell_type": "code",
      "source": [
        "!git push origin master"
      ],
      "metadata": {
        "colab": {
          "base_uri": "https://localhost:8080/"
        },
        "id": "QUHPOsiHu90Y",
        "outputId": "4224dee7-0584-4a04-8a32-604342a6de42"
      },
      "execution_count": 29,
      "outputs": [
        {
          "output_type": "stream",
          "name": "stdout",
          "text": [
            "Enumerating objects: 14, done.\n",
            "Counting objects:   7% (1/14)\rCounting objects:  14% (2/14)\rCounting objects:  21% (3/14)\rCounting objects:  28% (4/14)\rCounting objects:  35% (5/14)\rCounting objects:  42% (6/14)\rCounting objects:  50% (7/14)\rCounting objects:  57% (8/14)\rCounting objects:  64% (9/14)\rCounting objects:  71% (10/14)\rCounting objects:  78% (11/14)\rCounting objects:  85% (12/14)\rCounting objects:  92% (13/14)\rCounting objects: 100% (14/14)\rCounting objects: 100% (14/14), done.\n",
            "Delta compression using up to 2 threads\n",
            "Compressing objects:  11% (1/9)\rCompressing objects:  22% (2/9)\rCompressing objects:  33% (3/9)\rCompressing objects:  44% (4/9)\rCompressing objects:  55% (5/9)\rCompressing objects:  66% (6/9)\rCompressing objects:  77% (7/9)\rCompressing objects:  88% (8/9)\rCompressing objects: 100% (9/9)\rCompressing objects: 100% (9/9), done.\n",
            "Writing objects:   8% (1/12)\rWriting objects:  16% (2/12)\rWriting objects:  25% (3/12)\rWriting objects:  33% (4/12)\rWriting objects:  41% (5/12)\rWriting objects:  50% (6/12)\rWriting objects:  58% (7/12)\rWriting objects:  66% (8/12)\rWriting objects:  75% (9/12)\rWriting objects:  83% (10/12)\rWriting objects:  91% (11/12)\rWriting objects: 100% (12/12)\rWriting objects: 100% (12/12), 1.23 KiB | 1.23 MiB/s, done.\n",
            "Total 12 (delta 1), reused 0 (delta 0)\n",
            "remote: Resolving deltas:   0% (0/1)\u001b[K\rremote: Resolving deltas: 100% (1/1)\u001b[K\rremote: Resolving deltas: 100% (1/1), done.\u001b[K\n",
            "To https://github.com/AndreaRubianoM/proyecto.git\n",
            "   931f8df..3a83dc6  master -> master\n"
          ]
        }
      ]
    }
  ]
}